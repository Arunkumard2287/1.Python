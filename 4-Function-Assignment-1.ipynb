{
 "cells": [
  {
   "cell_type": "code",
   "execution_count": 1,
   "id": "06829165",
   "metadata": {},
   "outputs": [
    {
     "name": "stdout",
     "output_type": "stream",
     "text": [
      "Sub-fields in AI are:\n",
      "Machine Learning\n",
      "Neural Networks\n",
      "Vision\n",
      "Robotics\n",
      "Speech Processing\n",
      "Natural Language Processing\n"
     ]
    }
   ],
   "source": [
    "def Subfields (*a):\n",
    "    for i in a:\n",
    "        print(i)\n",
    "Subfields('Sub-fields in AI are:', 'Machine Learning', 'Neural Networks', 'Vision', 'Robotics','Speech Processing','Natural Language Processing')\n"
   ]
  },
  {
   "cell_type": "code",
   "execution_count": 2,
   "id": "ec501f27",
   "metadata": {},
   "outputs": [
    {
     "name": "stdout",
     "output_type": "stream",
     "text": [
      "Enter a number: 52452\n",
      "52452 is even number\n"
     ]
    }
   ],
   "source": [
    "def oddoreven():\n",
    "    a=int(input(\"Enter a number: \"))\n",
    "    if(a%2==0):\n",
    "        print(a,\"is even number\")\n",
    "    else:\n",
    "        print(a,\"is odd number\")\n",
    "oddoreven()"
   ]
  },
  {
   "cell_type": "code",
   "execution_count": 3,
   "id": "a77d1fb4",
   "metadata": {},
   "outputs": [
    {
     "name": "stdout",
     "output_type": "stream",
     "text": [
      "Your gender:Male\n",
      "Your age:20\n",
      "Not Elegible\n"
     ]
    }
   ],
   "source": [
    "def elegible():\n",
    "    gender=input(\"Your gender:\")\n",
    "    age=int(input(\"Your age:\"))\n",
    "    if(gender== \"Male\" and age>=21):\n",
    "        print(\"Elegible\")\n",
    "        a=\"Elegible\"\n",
    "    elif(gender==\"Male\" and age<=20):\n",
    "        print(\"Not Elegible\")\n",
    "        a=\"Not Elegible\"\n",
    "    elif(gender==\"Female\" and age>=18):\n",
    "        print(\"Elegible\")\n",
    "        a=\"Elegible\"\n",
    "    elif(gender==\"Female\" and age<=17):\n",
    "        print(\"Not Elegible\")\n",
    "        a=\"Elegible\"\n",
    "    else:\n",
    "        print(\"Entered items are not valid\")\n",
    "        a=\"Entered items are not valid\"\n",
    "    return a\n",
    "a=elegible()"
   ]
  },
  {
   "cell_type": "code",
   "execution_count": 1,
   "id": "bebc1f7e",
   "metadata": {},
   "outputs": [
    {
     "name": "stdout",
     "output_type": "stream",
     "text": [
      "Subject1= 98\n",
      "Subject2= 87\n",
      "Subject3= 95\n",
      "Subject4= 95\n",
      "Subject5= 93\n",
      "Total:  468\n",
      "Percentage: 93.6\n"
     ]
    }
   ],
   "source": [
    "def percentage():\n",
    "    s1=int(input(\"Subject1= \"))\n",
    "    s2=int(input(\"Subject2= \"))\n",
    "    s3=int(input(\"Subject3= \"))\n",
    "    s4=int(input(\"Subject4= \"))\n",
    "    s5=int(input(\"Subject5= \"))\n",
    "    total=s1+s2+s3+s4+s5\n",
    "    print(\"Total: \",total)\n",
    "    print(\"Percentage:\",total/5)\n",
    "percentage()"
   ]
  },
  {
   "cell_type": "code",
   "execution_count": 2,
   "id": "ea1ad501",
   "metadata": {},
   "outputs": [
    {
     "name": "stdout",
     "output_type": "stream",
     "text": [
      "Height: 32\n",
      "Breadth: 34\n",
      "Area of formula: (Height*Breadth)/2\n",
      "Area of Triangle:  544.0\n",
      "Height1: 2\n",
      "Height2: 4\n",
      "Breadth: 4\n",
      "Perimeter formula: Height1+Height2+Breadth\n",
      "Perimeter of Triangle:  10\n"
     ]
    }
   ],
   "source": [
    "def triangle():\n",
    "    h=int(input(\"Height: \"))\n",
    "    b=int(input(\"Breadth: \"))\n",
    "    print(\"Area of formula: (Height*Breadth)/2\")\n",
    "    print(\"Area of Triangle: \",(h*b)/2)\n",
    "    h1=int(input(\"Height1: \"))\n",
    "    h2=int(input(\"Height2: \"))\n",
    "    b1=int(input(\"Breadth: \"))\n",
    "    print(\"Perimeter formula: Height1+Height2+Breadth\")\n",
    "    print(\"Perimeter of Triangle: \",h1+h2+b1)\n",
    "triangle()"
   ]
  },
  {
   "cell_type": "code",
   "execution_count": null,
   "id": "2e7172a9",
   "metadata": {},
   "outputs": [],
   "source": []
  }
 ],
 "metadata": {
  "kernelspec": {
   "display_name": "Python 3 (ipykernel)",
   "language": "python",
   "name": "python3"
  },
  "language_info": {
   "codemirror_mode": {
    "name": "ipython",
    "version": 3
   },
   "file_extension": ".py",
   "mimetype": "text/x-python",
   "name": "python",
   "nbconvert_exporter": "python",
   "pygments_lexer": "ipython3",
   "version": "3.11.5"
  }
 },
 "nbformat": 4,
 "nbformat_minor": 5
}
