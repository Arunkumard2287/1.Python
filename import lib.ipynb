{
 "cells": [
  {
   "cell_type": "code",
   "execution_count": 1,
   "id": "60989725",
   "metadata": {},
   "outputs": [
    {
     "name": "stdout",
     "output_type": "stream",
     "text": [
      "Sub-fields in AI are:\n",
      "Machine Learning\n",
      "Neural Networks\n",
      "Vision\n",
      "Robotics\n",
      "Speech Processing\n",
      "Natural Language Processing\n"
     ]
    }
   ],
   "source": [
    "from MulFunctions import mulpFunction"
   ]
  },
  {
   "cell_type": "code",
   "execution_count": 2,
   "id": "d96e0316",
   "metadata": {},
   "outputs": [
    {
     "name": "stdout",
     "output_type": "stream",
     "text": [
      "Enter a number: 5\n",
      "5 is odd number\n"
     ]
    }
   ],
   "source": [
    "mulpFunction.oddoreven()"
   ]
  },
  {
   "cell_type": "code",
   "execution_count": 3,
   "id": "8cd05b3a",
   "metadata": {},
   "outputs": [
    {
     "name": "stdout",
     "output_type": "stream",
     "text": [
      "Your gender:Male\n",
      "Your age:20\n",
      "Not Elegible\n"
     ]
    },
    {
     "data": {
      "text/plain": [
       "'Not Elegible'"
      ]
     },
     "execution_count": 3,
     "metadata": {},
     "output_type": "execute_result"
    }
   ],
   "source": [
    "mulpFunction.elegible()"
   ]
  },
  {
   "cell_type": "code",
   "execution_count": 4,
   "id": "7375c49f",
   "metadata": {},
   "outputs": [
    {
     "name": "stdout",
     "output_type": "stream",
     "text": [
      "Subject1= 5\n",
      "Subject2= 7\n",
      "Subject3= 8\n",
      "Subject4= 7\n",
      "Subject5= 4\n",
      "Total:  31\n",
      "Percentage: 6.2\n"
     ]
    }
   ],
   "source": [
    "mulpFunction.percentage()"
   ]
  },
  {
   "cell_type": "code",
   "execution_count": 5,
   "id": "011c5b70",
   "metadata": {},
   "outputs": [
    {
     "name": "stdout",
     "output_type": "stream",
     "text": [
      "Height: 7\n",
      "Breadth: 8\n",
      "Area of formula: (Height*Breadth)/2\n",
      "Area of Triangle:  28.0\n",
      "Height1: 2\n",
      "Height2: 4\n",
      "Breadth: 4\n",
      "Perimeter formula: Height1+Height2+Breadth\n",
      "Perimeter of Triangle:  10\n"
     ]
    }
   ],
   "source": [
    "mulpFunction.triangle()"
   ]
  },
  {
   "cell_type": "code",
   "execution_count": 7,
   "id": "f0bfa310",
   "metadata": {},
   "outputs": [],
   "source": [
    "mulpFunction.Subfields()"
   ]
  },
  {
   "cell_type": "code",
   "execution_count": null,
   "id": "445baaa6",
   "metadata": {},
   "outputs": [],
   "source": []
  }
 ],
 "metadata": {
  "kernelspec": {
   "display_name": "Python 3 (ipykernel)",
   "language": "python",
   "name": "python3"
  },
  "language_info": {
   "codemirror_mode": {
    "name": "ipython",
    "version": 3
   },
   "file_extension": ".py",
   "mimetype": "text/x-python",
   "name": "python",
   "nbconvert_exporter": "python",
   "pygments_lexer": "ipython3",
   "version": "3.11.5"
  }
 },
 "nbformat": 4,
 "nbformat_minor": 5
}
