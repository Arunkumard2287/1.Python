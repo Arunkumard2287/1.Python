{
 "cells": [
  {
   "cell_type": "code",
   "execution_count": 2,
   "id": "67190aac",
   "metadata": {},
   "outputs": [
    {
     "name": "stdout",
     "output_type": "stream",
     "text": [
      "HOPE AI\n"
     ]
    }
   ],
   "source": [
    "print(\"HOPE AI\")"
   ]
  },
  {
   "cell_type": "code",
   "execution_count": 6,
   "id": "316ee87b",
   "metadata": {},
   "outputs": [
    {
     "name": "stdout",
     "output_type": "stream",
     "text": [
      "Enter your institute name? : HOPE AI\n"
     ]
    }
   ],
   "source": [
    "name=input(\"Enter your institute name? : \")"
   ]
  },
  {
   "cell_type": "code",
   "execution_count": 7,
   "id": "592712ca",
   "metadata": {},
   "outputs": [
    {
     "name": "stdout",
     "output_type": "stream",
     "text": [
      "Enter your name: Raj\n",
      "Enter your age: 15\n",
      "Enter your school name: Guru School\n",
      "Enter your degree: B.E CSE\n"
     ]
    }
   ],
   "source": [
    "name=input(\"Enter your name: \")\n",
    "age=input(\"Enter your age: \")\n",
    "schoolName=input(\"Enter your school name: \")\n",
    "degree=input(\"Enter your degree: \")"
   ]
  },
  {
   "cell_type": "code",
   "execution_count": 10,
   "id": "f3479877",
   "metadata": {},
   "outputs": [
    {
     "name": "stdout",
     "output_type": "stream",
     "text": [
      "a= 43\n",
      "b= 34\n",
      "add= 77\n"
     ]
    }
   ],
   "source": [
    "a=int(input(\"a= \"))\n",
    "b=int(input(\"b= \"))\n",
    "print(\"add=\",a+b )"
   ]
  },
  {
   "cell_type": "code",
   "execution_count": 12,
   "id": "e89bbcbe",
   "metadata": {},
   "outputs": [
    {
     "name": "stdout",
     "output_type": "stream",
     "text": [
      "a= 43\n",
      "b= 34\n",
      "Sub= 9\n"
     ]
    }
   ],
   "source": [
    "a=int(input(\"a= \"))\n",
    "b=int(input(\"b= \"))\n",
    "print(\"Sub=\",a-b )\n"
   ]
  },
  {
   "cell_type": "code",
   "execution_count": 13,
   "id": "de6a1156",
   "metadata": {},
   "outputs": [
    {
     "name": "stdout",
     "output_type": "stream",
     "text": [
      "a= 63\n",
      "b= 97\n",
      "mul= 6111\n"
     ]
    }
   ],
   "source": [
    "a=int(input(\"a= \"))\n",
    "b=int(input(\"b= \"))\n",
    "print(\"mul=\",a*b)"
   ]
  },
  {
   "cell_type": "code",
   "execution_count": 14,
   "id": "dfecbfbf",
   "metadata": {},
   "outputs": [
    {
     "name": "stdout",
     "output_type": "stream",
     "text": [
      "a= 76\n",
      "b= 31\n",
      "Float Div= 2.4516129032258065\n"
     ]
    }
   ],
   "source": [
    "a=float(input(\"a= \"))\n",
    "b=float(input(\"b= \"))\n",
    "print(\"Float Div=\",a/b)"
   ]
  },
  {
   "cell_type": "code",
   "execution_count": 19,
   "id": "6581519c",
   "metadata": {},
   "outputs": [
    {
     "name": "stdout",
     "output_type": "stream",
     "text": [
      "a= 76\n",
      "b= 31\n",
      "Floor Div= 2\n"
     ]
    }
   ],
   "source": [
    "a=int(input(\"a= \"))\n",
    "b=int(input(\"b= \"))\n",
    "print(\"Floor Div=\",a//b)"
   ]
  },
  {
   "cell_type": "code",
   "execution_count": 16,
   "id": "4611f819",
   "metadata": {},
   "outputs": [
    {
     "name": "stdout",
     "output_type": "stream",
     "text": [
      "a= 76\n",
      "b= 31\n",
      "Modulo= 14\n"
     ]
    }
   ],
   "source": [
    "a=int(input(\"a= \"))\n",
    "b=int(input(\"b= \"))\n",
    "print(\"Modulo=\",a%b)"
   ]
  },
  {
   "cell_type": "code",
   "execution_count": 17,
   "id": "81781a43",
   "metadata": {},
   "outputs": [
    {
     "name": "stdout",
     "output_type": "stream",
     "text": [
      "a= 4\n",
      "b= 4\n",
      "Power= 256\n"
     ]
    }
   ],
   "source": [
    "a=int(input(\"a= \"))\n",
    "b=int(input(\"b= \"))\n",
    "print(\"Power=\",a**b)"
   ]
  },
  {
   "cell_type": "code",
   "execution_count": null,
   "id": "bb9051dd",
   "metadata": {},
   "outputs": [],
   "source": []
  }
 ],
 "metadata": {
  "kernelspec": {
   "display_name": "Python 3 (ipykernel)",
   "language": "python",
   "name": "python3"
  },
  "language_info": {
   "codemirror_mode": {
    "name": "ipython",
    "version": 3
   },
   "file_extension": ".py",
   "mimetype": "text/x-python",
   "name": "python",
   "nbconvert_exporter": "python",
   "pygments_lexer": "ipython3",
   "version": "3.11.5"
  }
 },
 "nbformat": 4,
 "nbformat_minor": 5
}
